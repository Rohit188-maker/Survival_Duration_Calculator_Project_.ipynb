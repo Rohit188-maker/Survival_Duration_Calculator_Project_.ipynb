{
  "cells": [
    {
      "cell_type": "code",
      "source": [
        "class SurvivalDurationCalculator:\n",
        "    def __init__(self, age):\n",
        "        self.age = age\n",
        "\n",
        "    def calculate_duration(self, unit):\n",
        "        if unit.lower() == 'months':\n",
        "            return self.age * 12\n",
        "\n",
        "        elif unit.lower() == 'weeks':\n",
        "            return self.age * 52\n",
        "        elif unit.lower() == 'days':\n",
        "            return self.age * 365\n",
        "        elif unit.lower() == 'hours':\n",
        "            return self.age * 365 * 24\n",
        "        elif unit.lower() == 'minutes':\n",
        "            return self.age * 365 * 24 * 60\n",
        "        elif unit.lower() == 'seconds':\n",
        "            return self.age * 365 * 24 * 60 * 60\n",
        "        else:\n",
        "            return \"Invalid time unit. Please choose from Months, Weeks, Days, Hours, Minutes, or Seconds.\"\n",
        "\n",
        "# Get user input\n",
        "age = int(input(\"What's your age? \"))\n",
        "unit = input(\"Please choose time unit: Months, Weeks, Days, Hours, Minutes, Seconds. Note: You can write the first letter or the full name of the time unit. \")\n",
        "\n",
        "# Initialize the class and calculate the duration\n",
        "calculator = SurvivalDurationCalculator(age)\n",
        "duration = calculator.calculate_duration(unit)\n",
        "\n",
        "# Display the result\n",
        "print(\"You lived for\", duration, unit)"
      ],
      "metadata": {
        "colab": {
          "base_uri": "https://localhost:8080/"
        },
        "id": "2QYuzbXvelVe",
        "outputId": "d6b4a698-732f-4937-c1fe-f8d1d0df6943"
      },
      "id": "2QYuzbXvelVe",
      "execution_count": 5,
      "outputs": [
        {
          "output_type": "stream",
          "name": "stdout",
          "text": [
            "What's your age? 10\n",
            "Please choose time unit: Months, Weeks, Days, Hours, Minutes, Seconds. Note: You can write the first letter or the full name of the time unit. months\n",
            "You lived for 120 months\n"
          ]
        }
      ]
    }
  ],
  "metadata": {
    "kernelspec": {
      "display_name": "Python 3 (ipykernel)",
      "language": "python",
      "name": "python3"
    },
    "language_info": {
      "codemirror_mode": {
        "name": "ipython",
        "version": 3
      },
      "file_extension": ".py",
      "mimetype": "text/x-python",
      "name": "python",
      "nbconvert_exporter": "python",
      "pygments_lexer": "ipython3",
      "version": "3.11.7"
    },
    "colab": {
      "provenance": []
    }
  },
  "nbformat": 4,
  "nbformat_minor": 5
}